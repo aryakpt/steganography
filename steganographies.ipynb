{
 "cells": [
  {
   "cell_type": "markdown",
   "metadata": {},
   "source": [
    "# **Steganography**"
   ]
  },
  {
   "cell_type": "code",
   "execution_count": 9,
   "metadata": {},
   "outputs": [],
   "source": [
    "import os\n",
    "from PIL import Image, UnidentifiedImageError # type: ignore\n",
    "from cryptography.fernet import Fernet # type: ignore\n",
    "import numpy as np # type: ignore\n",
    "from skimage.metrics import peak_signal_noise_ratio as psnr, structural_similarity as ssim # type: ignore"
   ]
  },
  {
   "cell_type": "markdown",
   "metadata": {},
   "source": [
    "### Generate Key untuk Enkripsi"
   ]
  },
  {
   "cell_type": "code",
   "execution_count": 3,
   "metadata": {},
   "outputs": [],
   "source": [
    "# (jalankan sekali dan simpan kunci)\n",
    "def generate_key():\n",
    "    key = Fernet.generate_key()\n",
    "    with open(\"secret.key\", \"wb\") as key_file:\n",
    "        key_file.write(key)"
   ]
  },
  {
   "cell_type": "markdown",
   "metadata": {},
   "source": [
    "### Load Kunci Enkripsi"
   ]
  },
  {
   "cell_type": "code",
   "execution_count": 4,
   "metadata": {},
   "outputs": [],
   "source": [
    "def load_key():\n",
    "    return open(\"secret.key\", \"rb\").read()"
   ]
  },
  {
   "cell_type": "markdown",
   "metadata": {},
   "source": [
    "### Convert JPG/JPEG menjadi PNG"
   ]
  },
  {
   "cell_type": "code",
   "execution_count": 63,
   "metadata": {},
   "outputs": [],
   "source": [
    "def convert_jpgs_in_folder(folder_path):\n",
    "    # Pastikan folder ada\n",
    "    if not os.path.isdir(folder_path):\n",
    "        print(\"Folder tidak ditemukan!\")\n",
    "        return\n",
    "    \n",
    "    # Loop semua file di dalam folder\n",
    "    for filename in os.listdir(folder_path):\n",
    "        # Periksa apakah file adalah JPG atau JPEG\n",
    "        if filename.lower().endswith((\".jpg\", \".jpeg\")):\n",
    "            file_path = os.path.join(folder_path, filename)  # Path lengkap file\n",
    "            img = Image.open(file_path).convert(\"RGB\")  # Konversi ke RGB\n",
    "            \n",
    "            # Buat path baru dengan ekstensi PNG\n",
    "            new_file_path = os.path.splitext(file_path)[0] + \".png\"\n",
    "            \n",
    "            # Simpan sebagai PNG\n",
    "            img.save(new_file_path, \"PNG\")\n",
    "\n",
    "            # Hapus file JPG lama\n",
    "            os.remove(file_path)\n",
    "\n",
    "    print(\"Semua JPG dalam folder telah dikonversi ke PNG.\")"
   ]
  },
  {
   "cell_type": "code",
   "execution_count": 64,
   "metadata": {},
   "outputs": [
    {
     "name": "stdout",
     "output_type": "stream",
     "text": [
      "Semua JPG dalam folder telah dikonversi ke PNG.\n"
     ]
    }
   ],
   "source": [
    "convert_jpgs_in_folder(\"original\")"
   ]
  },
  {
   "cell_type": "markdown",
   "metadata": {},
   "source": [
    "### Enkripsi dan Dekripsi menggunakan AES"
   ]
  },
  {
   "cell_type": "code",
   "execution_count": 65,
   "metadata": {},
   "outputs": [],
   "source": [
    "def encrypt_message(message, key):\n",
    "    cipher = Fernet(key)\n",
    "    encrypted_message = cipher.encrypt(message.encode())\n",
    "    return encrypted_message\n",
    "\n",
    "def decrypt_message(encrypted_message, key):\n",
    "    cipher = Fernet(key)\n",
    "    decrypted_message = cipher.decrypt(encrypted_message).decode()\n",
    "    return decrypted_message"
   ]
  },
  {
   "cell_type": "markdown",
   "metadata": {},
   "source": [
    "### Menyisipkan Pesan pada Gambar menggunakan LSB Multi-Channel (RGB)"
   ]
  },
  {
   "cell_type": "code",
   "execution_count": 66,
   "metadata": {},
   "outputs": [],
   "source": [
    "\n",
    "def encode_image(image_path, message, output_path):\n",
    "    img = Image.open(image_path).convert(\"RGB\")  # Pastikan gambar dalam mode RGB\n",
    "    pixels = img.load()\n",
    "    \n",
    "    key = load_key()\n",
    "    encrypted_message = encrypt_message(message, key)\n",
    "    binary_message = ''.join(format(byte, '08b') for byte in encrypted_message) + '00000000'  # Terminator\n",
    "\n",
    "    data_index = 0\n",
    "    for y in range(img.height):\n",
    "        for x in range(img.width):\n",
    "            if data_index < len(binary_message):\n",
    "                r, g, b = pixels[x, y]  # Pastikan mode RGB\n",
    "                new_r = (r & ~1) | int(binary_message[data_index]) if data_index < len(binary_message) else r\n",
    "                new_g = (g & ~1) | int(binary_message[data_index+1]) if data_index+1 < len(binary_message) else g\n",
    "                new_b = (b & ~1) | int(binary_message[data_index+2]) if data_index+2 < len(binary_message) else b\n",
    "                pixels[x, y] = (new_r, new_g, new_b)\n",
    "                data_index += 3\n",
    "            else:\n",
    "                img.save(output_path)\n",
    "                return\n",
    "            \n",
    "def encode_image_for_multiple_data(original_images_dir, message, hidden_images_dir):\n",
    "    if not os.path.exists(hidden_images_dir):\n",
    "        os.makedirs(hidden_images_dir)\n",
    "\n",
    "    for filename in os.listdir(original_images_dir):\n",
    "        if filename.lower().endswith(('.png', '.jpg', '.jpeg')):\n",
    "            try:\n",
    "                original_path = os.path.join(original_images_dir, filename)\n",
    "                hidden_image_path = os.path.join(hidden_images_dir, filename)\n",
    "                encode_image(\n",
    "                    image_path=original_path, \n",
    "                    message=message,\n",
    "                    output_path=hidden_image_path\n",
    "                    )\n",
    "\n",
    "            except UnidentifiedImageError:\n",
    "                print(f\"File {filename} bukan gambar yang valid, dilewati.\")\n",
    "            \n",
    "def decode_image(image_path):\n",
    "    img = Image.open(image_path).convert(\"RGB\")  # Pastikan mode RGB\n",
    "    pixels = img.load()\n",
    "\n",
    "    binary_message = \"\"\n",
    "\n",
    "    for y in range(img.height):\n",
    "        for x in range(img.width):\n",
    "            r, g, b = pixels[x, y]\n",
    "            binary_message += str(r & 1) + str(g & 1) + str(b & 1)\n",
    "\n",
    "    # Konversi biner ke byte\n",
    "    byte_message = [binary_message[i:i+8] for i in range(0, len(binary_message), 8)]\n",
    "    \n",
    "    try:\n",
    "        # Hilangkan terminator \"00000000\" jika ada\n",
    "        extracted_bytes = bytes([int(b, 2) for b in byte_message if b != \"00000000\"])\n",
    "\n",
    "        # Load kunci\n",
    "        key = load_key()\n",
    "\n",
    "        # Coba lakukan dekripsi\n",
    "        decrypted_message = decrypt_message(extracted_bytes, key)\n",
    "        return decrypted_message\n",
    "\n",
    "    except Exception:\n",
    "        return \"Tidak ada pesan tersembunyi di dalam gambar.\"\n"
   ]
  },
  {
   "cell_type": "markdown",
   "metadata": {},
   "source": [
    "### How to Use"
   ]
  },
  {
   "cell_type": "code",
   "execution_count": 67,
   "metadata": {},
   "outputs": [],
   "source": [
    "original_images_dir = \"original\"\n",
    "hidden_images_dir = \"hidden\"\n",
    "message = \"Pesan Rahasia!\""
   ]
  },
  {
   "cell_type": "code",
   "execution_count": 34,
   "metadata": {},
   "outputs": [],
   "source": [
    "# 1️⃣ Jalankan sekali untuk membuat kunci enkripsi:\n",
    "generate_key()"
   ]
  },
  {
   "cell_type": "code",
   "execution_count": 68,
   "metadata": {},
   "outputs": [],
   "source": [
    "# 2️⃣ Menyisipkan pesan ke dalam gambar\n",
    "encode_image_for_multiple_data(original_images_dir, message, hidden_images_dir)"
   ]
  },
  {
   "cell_type": "code",
   "execution_count": 73,
   "metadata": {},
   "outputs": [
    {
     "name": "stdout",
     "output_type": "stream",
     "text": [
      "Pesan tersembunyi: Pesan Rahasia!\n"
     ]
    }
   ],
   "source": [
    "# 3️⃣ Mengekstrak dan mendekripsi pesan dari gambar\n",
    "message = decode_image(image_path=\"hidden/99_img.png\")\n",
    "print(\"Pesan tersembunyi:\", message)"
   ]
  },
  {
   "cell_type": "markdown",
   "metadata": {},
   "source": [
    "### Evaluasi"
   ]
  },
  {
   "cell_type": "code",
   "execution_count": 74,
   "metadata": {},
   "outputs": [],
   "source": [
    "def evaluate_image_quality(original_image, encoded_image):\n",
    "    # Konversi gambar ke array numpy\n",
    "    original_array = np.array(original_image)\n",
    "    encoded_array = np.array(encoded_image)\n",
    "    \n",
    "    # Pastikan gambar cukup besar untuk dihitung SSIM\n",
    "    if original_array.shape[0] < 7 or original_array.shape[1] < 7:\n",
    "        raise ValueError(\"Gambar terlalu kecil untuk evaluasi SSIM.\")\n",
    "    \n",
    "    # Evaluasi PSNR dan SSIM\n",
    "    psnr_value = psnr(original_array, encoded_array)\n",
    "    \n",
    "    # Evaluasi SSIM dengan mengatur ukuran jendela dan channel axis\n",
    "    ssim_value = ssim(original_array, encoded_array, multichannel=True, win_size=3, channel_axis=-1)\n",
    "    \n",
    "    return psnr_value, ssim_value\n",
    "\n",
    "def evaluate_multiple_images(original_dir, hidden_dir):\n",
    "    psnr_values = []\n",
    "    ssim_values = []\n",
    "\n",
    "    for filename in os.listdir(original_dir):\n",
    "        original_path = os.path.join(original_dir, filename)\n",
    "        hidden_path = os.path.join(hidden_dir, filename)\n",
    "\n",
    "        if os.path.isfile(original_path) and os.path.isfile(hidden_path):\n",
    "            original_img = Image.open(original_path).convert('RGB')\n",
    "            hidden_img = Image.open(hidden_path).convert('RGB')\n",
    "\n",
    "            psnr_value, ssim_value = evaluate_image_quality(original_img, hidden_img)\n",
    "\n",
    "            psnr_values.append(psnr_value)\n",
    "            ssim_values.append(ssim_value)\n",
    "\n",
    "    avg_psnr = np.mean(psnr_values)\n",
    "    avg_ssim = np.mean(ssim_values)\n",
    "    \n",
    "    return avg_psnr, avg_ssim"
   ]
  },
  {
   "cell_type": "code",
   "execution_count": 75,
   "metadata": {},
   "outputs": [
    {
     "name": "stdout",
     "output_type": "stream",
     "text": [
      "PSNR: 85.02709230423208\n",
      "SSIM: 0.9999982338957922\n"
     ]
    }
   ],
   "source": [
    "avg_psnr, avg_ssim = evaluate_multiple_images(original_images_dir, hidden_images_dir)\n",
    "\n",
    "print(f\"PSNR: {avg_psnr}\")\n",
    "print(f\"SSIM: {avg_ssim}\")"
   ]
  },
  {
   "cell_type": "markdown",
   "metadata": {},
   "source": [
    "### Kesimpulan"
   ]
  },
  {
   "cell_type": "markdown",
   "metadata": {},
   "source": [
    "4️⃣ Penjelasan Teknik yang Digunakan\n",
    "\n",
    "Enkripsi AES dengan cryptography.Fernet\n",
    "\n",
    "🔹 Sebelum pesan disisipkan, pesan dienkripsi untuk menambah keamanan.\n",
    "\n",
    "🔹 Hanya yang memiliki kunci bisa mendekripsi pesan tersebut.\n",
    "\n",
    "LSB Multi-Channel (RGB)\n",
    "\n",
    "🔹 Menyisipkan bit pesan ke dalam semua kanal warna (R, G, B) agar lebih banyak data bisa disimpan.\n",
    "\n",
    "🔹 Menggunakan 00000000 sebagai terminator agar mudah diekstrak."
   ]
  },
  {
   "cell_type": "markdown",
   "metadata": {},
   "source": [
    "5️⃣ Kesimpulan\n",
    "\n",
    "✅ Teknik ini lebih aman karena menggunakan enkripsi AES sebelum penyisipan.\n",
    "\n",
    "✅ LSB multi-channel meningkatkan kapasitas penyimpanan data dalam gambar.\n",
    "\n",
    "✅ Pesan yang disisipkan hanya bisa dibaca oleh orang yang memiliki kunci enkripsi."
   ]
  }
 ],
 "metadata": {
  "kernelspec": {
   "display_name": "venv",
   "language": "python",
   "name": "python3"
  },
  "language_info": {
   "codemirror_mode": {
    "name": "ipython",
    "version": 3
   },
   "file_extension": ".py",
   "mimetype": "text/x-python",
   "name": "python",
   "nbconvert_exporter": "python",
   "pygments_lexer": "ipython3",
   "version": "3.13.0"
  }
 },
 "nbformat": 4,
 "nbformat_minor": 2
}
