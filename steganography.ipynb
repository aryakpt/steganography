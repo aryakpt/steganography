{
 "cells": [
  {
   "cell_type": "markdown",
   "metadata": {},
   "source": [
    "# **Steganography**"
   ]
  },
  {
   "cell_type": "code",
   "execution_count": 7,
   "metadata": {},
   "outputs": [],
   "source": [
    "import os\n",
    "from PIL import Image # type: ignore\n",
    "from cryptography.fernet import Fernet # type: ignore"
   ]
  },
  {
   "cell_type": "markdown",
   "metadata": {},
   "source": [
    "### Generate Key untuk Enkripsi"
   ]
  },
  {
   "cell_type": "code",
   "execution_count": 8,
   "metadata": {},
   "outputs": [],
   "source": [
    "# (jalankan sekali dan simpan kunci)\n",
    "def generate_key():\n",
    "    key = Fernet.generate_key()\n",
    "    with open(\"secret.key\", \"wb\") as key_file:\n",
    "        key_file.write(key)"
   ]
  },
  {
   "cell_type": "markdown",
   "metadata": {},
   "source": [
    "### Load Kunci Enkripsi"
   ]
  },
  {
   "cell_type": "code",
   "execution_count": 9,
   "metadata": {},
   "outputs": [],
   "source": [
    "def load_key():\n",
    "    return open(\"secret.key\", \"rb\").read()"
   ]
  },
  {
   "cell_type": "markdown",
   "metadata": {},
   "source": [
    "### Enkripsi dan Dekripsi menggunakan AES"
   ]
  },
  {
   "cell_type": "code",
   "execution_count": 10,
   "metadata": {},
   "outputs": [],
   "source": [
    "def encrypt_message(message, key):\n",
    "    cipher = Fernet(key)\n",
    "    encrypted_message = cipher.encrypt(message.encode())\n",
    "    return encrypted_message\n",
    "\n",
    "def decrypt_message(encrypted_message, key):\n",
    "    cipher = Fernet(key)\n",
    "    decrypted_message = cipher.decrypt(encrypted_message).decode()\n",
    "    return decrypted_message"
   ]
  },
  {
   "cell_type": "markdown",
   "metadata": {},
   "source": [
    "### Menyisipkan Pesan pada Gambar menggunakan LSB Multi-Channel (RGB)"
   ]
  },
  {
   "cell_type": "code",
   "execution_count": 31,
   "metadata": {},
   "outputs": [],
   "source": [
    "def encode_image(image_path, message, output_path):\n",
    "    img = Image.open(image_path).convert(\"RGB\")  # Pastikan gambar dalam mode RGB\n",
    "    pixels = img.load()\n",
    "    \n",
    "    key = load_key()\n",
    "    encrypted_message = encrypt_message(message, key)\n",
    "    binary_message = ''.join(format(byte, '08b') for byte in encrypted_message) + '00000000'  # Terminator\n",
    "\n",
    "    data_index = 0\n",
    "    for y in range(img.height):\n",
    "        for x in range(img.width):\n",
    "            if data_index < len(binary_message):\n",
    "                r, g, b = pixels[x, y]  # Pastikan mode RGB\n",
    "                new_r = (r & ~1) | int(binary_message[data_index]) if data_index < len(binary_message) else r\n",
    "                new_g = (g & ~1) | int(binary_message[data_index+1]) if data_index+1 < len(binary_message) else g\n",
    "                new_b = (b & ~1) | int(binary_message[data_index+2]) if data_index+2 < len(binary_message) else b\n",
    "                pixels[x, y] = (new_r, new_g, new_b)\n",
    "                data_index += 3\n",
    "            else:\n",
    "                img.save(output_path)\n",
    "                return\n",
    "            \n",
    "def decode_image(image_path):\n",
    "    img = Image.open(image_path).convert(\"RGB\")  # Pastikan mode RGB\n",
    "    pixels = img.load()\n",
    "\n",
    "    binary_message = \"\"\n",
    "\n",
    "    for y in range(img.height):\n",
    "        for x in range(img.width):\n",
    "            r, g, b = pixels[x, y]\n",
    "            binary_message += str(r & 1) + str(g & 1) + str(b & 1)\n",
    "\n",
    "    # Konversi biner ke byte\n",
    "    byte_message = [binary_message[i:i+8] for i in range(0, len(binary_message), 8)]\n",
    "    \n",
    "    try:\n",
    "        # Hilangkan terminator \"00000000\" jika ada\n",
    "        extracted_bytes = bytes([int(b, 2) for b in byte_message if b != \"00000000\"])\n",
    "\n",
    "        # Load kunci\n",
    "        key = load_key()\n",
    "\n",
    "        # Coba lakukan dekripsi\n",
    "        decrypted_message = decrypt_message(extracted_bytes, key)\n",
    "        return decrypted_message\n",
    "\n",
    "    except Exception:\n",
    "        return \"Tidak ada pesan tersembunyi di dalam gambar.\"\n"
   ]
  },
  {
   "cell_type": "markdown",
   "metadata": {},
   "source": [
    "### How to Use"
   ]
  },
  {
   "cell_type": "code",
   "execution_count": 22,
   "metadata": {},
   "outputs": [],
   "source": [
    "image_path = \"original.png\"\n",
    "hidden_image_path = \"hidden.png\""
   ]
  },
  {
   "cell_type": "code",
   "execution_count": 14,
   "metadata": {},
   "outputs": [],
   "source": [
    "# 1️⃣ Jalankan sekali untuk membuat kunci enkripsi:\n",
    "generate_key()"
   ]
  },
  {
   "cell_type": "code",
   "execution_count": 23,
   "metadata": {},
   "outputs": [
    {
     "data": {
      "image/jpeg": "[encoded data removed]",
      "image/png": "[encoded data removed]",
      "text/plain": [
       "<PIL.Image.Image image mode=RGB size=250x250>"
      ]
     },
     "execution_count": 23,
     "metadata": {},
     "output_type": "execute_result"
    }
   ],
   "source": [
    "Image.open(image_path).convert(\"RGB\")"
   ]
  },
  {
   "cell_type": "code",
   "execution_count": 24,
   "metadata": {},
   "outputs": [
    {
     "name": "stdout",
     "output_type": "stream",
     "text": [
      "Pesan berhasil disisipkan!\n"
     ]
    }
   ],
   "source": [
    "# 2️⃣ Menyisipkan pesan ke dalam gambar\n",
    "encode_image(\n",
    "  image_path=image_path, \n",
    "  message=\"Pesan ini sangat rahasia!\",\n",
    "  output_path=hidden_image_path\n",
    "  )\n",
    "print(\"Pesan berhasil disisipkan!\")"
   ]
  },
  {
   "cell_type": "code",
   "execution_count": 25,
   "metadata": {},
   "outputs": [
    {
     "data": {
      "image/jpeg": "[encoded data removed]",
      "image/png": "[encoded data removed]",
      "text/plain": [
       "<PIL.PngImagePlugin.PngImageFile image mode=RGB size=250x250>"
      ]
     },
     "execution_count": 25,
     "metadata": {},
     "output_type": "execute_result"
    }
   ],
   "source": [
    "Image.open(hidden_image_path)"
   ]
  },
  {
   "cell_type": "code",
   "execution_count": 33,
   "metadata": {},
   "outputs": [
    {
     "name": "stdout",
     "output_type": "stream",
     "text": [
      "Pesan tersembunyi: Pesan ini sangat rahasia!\n"
     ]
    }
   ],
   "source": [
    "# 3️⃣ Mengekstrak dan mendekripsi pesan dari gambar\n",
    "message = decode_image(image_path=hidden_image_path)\n",
    "print(\"Pesan tersembunyi:\", message)"
   ]
  },
  {
   "cell_type": "markdown",
   "metadata": {},
   "source": [
    "4️⃣ Penjelasan Teknik yang Digunakan\n",
    "\n",
    "Enkripsi AES dengan cryptography.Fernet\n",
    "\n",
    "🔹 Sebelum pesan disisipkan, pesan dienkripsi untuk menambah keamanan.\n",
    "\n",
    "🔹 Hanya yang memiliki kunci bisa mendekripsi pesan tersebut.\n",
    "\n",
    "LSB Multi-Channel (RGB)\n",
    "\n",
    "🔹 Menyisipkan bit pesan ke dalam semua kanal warna (R, G, B) agar lebih banyak data bisa disimpan.\n",
    "\n",
    "🔹 Menggunakan 00000000 sebagai terminator agar mudah diekstrak."
   ]
  },
  {
   "cell_type": "markdown",
   "metadata": {},
   "source": [
    "5️⃣ Kesimpulan\n",
    "\n",
    "✅ Teknik ini lebih aman karena menggunakan enkripsi AES sebelum penyisipan.\n",
    "\n",
    "✅ LSB multi-channel meningkatkan kapasitas penyimpanan data dalam gambar.\n",
    "\n",
    "✅ Pesan yang disisipkan hanya bisa dibaca oleh orang yang memiliki kunci enkripsi."
   ]
  }
 ],
 "metadata": {
  "kernelspec": {
   "display_name": "venv",
   "language": "python",
   "name": "python3"
  },
  "language_info": {
   "codemirror_mode": {
    "name": "ipython",
    "version": 3
   },
   "file_extension": ".py",
   "mimetype": "text/x-python",
   "name": "python",
   "nbconvert_exporter": "python",
   "pygments_lexer": "ipython3",
   "version": "3.13.0"
  }
 },
 "nbformat": 4,
 "nbformat_minor": 2
}
